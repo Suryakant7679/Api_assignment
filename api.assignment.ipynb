{
 "cells": [
  {
   "cell_type": "markdown",
   "id": "c48f4e74-304d-4d3d-9d4c-d4125f761dc8",
   "metadata": {},
   "source": [
    "Q1. What is an API? Give an example, where an API is used in real life."
   ]
  },
  {
   "cell_type": "markdown",
   "id": "4452ff4a-bf54-4b1a-9008-7b6e67682c32",
   "metadata": {},
   "source": [
    "Ans:- APIs are used in web applications to connect user-facing front ends with critical back-end functionality and data. APIs are used to deliver material by streaming services such as Spotify and Netflix"
   ]
  },
  {
   "cell_type": "markdown",
   "id": "510035ec-8013-4458-9bef-fa055c43a67f",
   "metadata": {},
   "source": [
    "Q2. Give advantages and disadvantages of using API."
   ]
  },
  {
   "cell_type": "markdown",
   "id": "35eb9f80-b549-4b6d-a9bf-09eb58e2c793",
   "metadata": {},
   "source": [
    "Advantages:\n",
    "\n",
    "Increased Interoperability: API solutions enable different software systems to communicate with each other, regardless of their programming language or platform. This enhances the interoperability between systems, allowing for the exchange of data and functionality.\n",
    "\n",
    "Improved Efficiency: API driven infrastructures enable developers to reuse code and functionality from existing software systems, saving time and reducing the amount of code that needs to be written from scratch.\n",
    "\n",
    "Better User Experience: APIs can enable third-party developers to create applications that integrate with existing software systems, providing a better user experience and increased functionality.\n",
    "\n",
    "\n",
    "Increased Flexibility: APIs provide developers with greater flexibility, enabling them to choose the best programming languages and frameworks for their needs.\n",
    "New Revenue Streams: APIs can enable companies to create new revenue streams by providing third-party developers with access to their software systems.\n",
    "\n",
    "Disadvantages:\n",
    "\n",
    "Security Concerns: API infrastructures can be vulnerable to security breaches, such as SQL injection attacks and cross-site scripting (XSS) attacks, making it crucial to implement security measures to protect against these threats.\n",
    "\n",
    "Complexity: APIs can be complex, requiring a significant amount of development effort to implement and maintain.\n",
    "\n",
    "Compatibility Issues: APIs can have compatibility issues between different versions of the same software system or between different systems, which can lead to errors and system failures.\n",
    "\n",
    "Dependency on Third-Party Developers: APIs rely on third-party developers to create applications that integrate with the software system. This can create dependencies that are outside of the control of the company that owns the software system.\n",
    "\n",
    "Governance and Management: APIs require proper governance and management to ensure they are being used correctly and consistently across different applications and systems.\n",
    "How to Select an"
   ]
  },
  {
   "cell_type": "markdown",
   "id": "bef86c51-dd44-4f56-a437-6b3ce937c9c2",
   "metadata": {},
   "source": [
    "Q3. What is a Web API? Differentiate between API and Web API."
   ]
  },
  {
   "cell_type": "markdown",
   "id": "059b7a12-8dce-4833-9e06-657930221e19",
   "metadata": {},
   "source": [
    "Ans:-API stands for Application Programming Interface. A Web API is an application programming interface for the Web. A Browser API can extend the functionality of a web browser. A Server API can extend the functionality of a web server."
   ]
  },
  {
   "cell_type": "markdown",
   "id": "945f210f-4323-4872-8cc0-c4663b86d39d",
   "metadata": {},
   "source": [
    "Q4. Explain REST and SOAP Architecture. Mention shortcomings of SOAP."
   ]
  },
  {
   "cell_type": "markdown",
   "id": "01955d6c-a7a4-406c-a551-575e78787033",
   "metadata": {},
   "source": [
    "Ans:-SOAP and REST are two different approaches to API design. The SOAP approach is highly structured and uses XML data format. REST is more flexible and allows applications to exchange data in multiple formats.\n",
    "\n",
    "SOAP is used only XML format data in web service, whereas JSON and other lightweight formats are not supported by it. It is slow because it uses XML format, whereas the payload for a simple string message is large. There are no security features in the SOAP specification."
   ]
  },
  {
   "cell_type": "markdown",
   "id": "ee380fc3-9881-4bea-a6b4-141b40684221",
   "metadata": {},
   "source": [
    "Q5. Differentiate between REST and SOAP."
   ]
  },
  {
   "cell_type": "markdown",
   "id": "1b1daa3d-00b9-451a-9aad-540d2155a097",
   "metadata": {},
   "source": [
    "Ans:- SOAP and REST are two different approaches to API design. The SOAP approach is highly structured and uses XML data format. REST is more flexible and allows applications to exchange data in multiple formats."
   ]
  },
  {
   "cell_type": "code",
   "execution_count": null,
   "id": "f201fba4-fe27-4998-a015-3cd3f4ccbd3f",
   "metadata": {},
   "outputs": [],
   "source": []
  }
 ],
 "metadata": {
  "kernelspec": {
   "display_name": "Python 3 (ipykernel)",
   "language": "python",
   "name": "python3"
  },
  "language_info": {
   "codemirror_mode": {
    "name": "ipython",
    "version": 3
   },
   "file_extension": ".py",
   "mimetype": "text/x-python",
   "name": "python",
   "nbconvert_exporter": "python",
   "pygments_lexer": "ipython3",
   "version": "3.10.0"
  }
 },
 "nbformat": 4,
 "nbformat_minor": 5
}
